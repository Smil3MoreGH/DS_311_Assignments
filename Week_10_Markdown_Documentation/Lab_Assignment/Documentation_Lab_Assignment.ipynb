{
 "cells": [
  {
   "cell_type": "markdown",
   "id": "924986cb",
   "metadata": {},
   "source": [
    "# Documentation Lab Assignment\n",
    "\n",
    "In this assignment, students can pick one of the previous lab exercise or assignment and rewrite them into a more professional documentation with markdown.  \n",
    "\n",
    "## Python\n",
    "\n",
    "Use the markdown cell in Jupyter Notebook.\n",
    "\n",
    "## R\n",
    "\n",
    "Use the markdown cell in R-Studio.\n",
    "\n",
    "## Tableau\n",
    "\n",
    "Use either Jupyter Notebook, R-Studio, or Tableau Public.\n",
    "\n",
    "The objective for this exercise is to practice writing professional documentation of your work, so you can select a Python assignment and rewrite it in R or other ways around.  Once your complete the documentation, save it into PDF file and submit on iLearn."
   ]
  }
 ],
 "metadata": {
  "kernelspec": {
   "display_name": "Python 3 (ipykernel)",
   "language": "python",
   "name": "python3"
  },
  "language_info": {
   "codemirror_mode": {
    "name": "ipython",
    "version": 3
   },
   "file_extension": ".py",
   "mimetype": "text/x-python",
   "name": "python",
   "nbconvert_exporter": "python",
   "pygments_lexer": "ipython3",
   "version": "3.8.12"
  },
  "latex_envs": {
   "LaTeX_envs_menu_present": true,
   "autoclose": false,
   "autocomplete": true,
   "bibliofile": "biblio.bib",
   "cite_by": "apalike",
   "current_citInitial": 1,
   "eqLabelWithNumbers": true,
   "eqNumInitial": 1,
   "hotkeys": {
    "equation": "Ctrl-E",
    "itemize": "Ctrl-I"
   },
   "labels_anchors": false,
   "latex_user_defs": false,
   "report_style_numbering": false,
   "user_envs_cfg": false
  },
  "toc": {
   "base_numbering": 1,
   "nav_menu": {},
   "number_sections": true,
   "sideBar": true,
   "skip_h1_title": false,
   "title_cell": "Table of Contents",
   "title_sidebar": "Contents",
   "toc_cell": false,
   "toc_position": {},
   "toc_section_display": true,
   "toc_window_display": false
  }
 },
 "nbformat": 4,
 "nbformat_minor": 5
}
